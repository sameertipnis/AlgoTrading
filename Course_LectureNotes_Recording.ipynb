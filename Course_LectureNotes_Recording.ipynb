{
  "nbformat": 4,
  "nbformat_minor": 0,
  "metadata": {
    "colab": {
      "name": "Course-LectureNotes-Recording.ipynb",
      "provenance": [],
      "authorship_tag": "ABX9TyNdzN9wnBKL772RKvAwZ3Pe",
      "include_colab_link": true
    },
    "kernelspec": {
      "name": "python3",
      "display_name": "Python 3"
    },
    "language_info": {
      "name": "python"
    }
  },
  "cells": [
    {
      "cell_type": "markdown",
      "metadata": {
        "id": "view-in-github",
        "colab_type": "text"
      },
      "source": [
        "<a href=\"https://colab.research.google.com/github/sameertipnis/AlgoTrading/blob/main/Course_LectureNotes_Recording.ipynb\" target=\"_parent\"><img src=\"https://colab.research.google.com/assets/colab-badge.svg\" alt=\"Open In Colab\"/></a>"
      ]
    },
    {
      "cell_type": "markdown",
      "source": [
        "[Syllabus](https://drive.google.com/file/d/1dN4Re4vqrbU7-HK2Dvf1Xmc1FnrREHZY/view?usp=sharing)"
      ],
      "metadata": {
        "id": "XaVUh3Zrs8XN"
      }
    },
    {
      "cell_type": "markdown",
      "source": [
        "#Lecture-1\n",
        "\n",
        "**No Recording **\n",
        "\n",
        "Lecture Notes:\n",
        "\n",
        "https://drive.google.com/file/d/1CSmfbW-UI8KWGoNq3jG8lLNwjkDd_QKU/view?usp=sharing\n"
      ],
      "metadata": {
        "id": "CxSvupxgEO8a"
      }
    },
    {
      "cell_type": "markdown",
      "source": [
        "#Lecture-2\n",
        "Topic: Algorithmic Trading - Lectures\n",
        "Start Time: Jun 22, 2022 05:53 PM\n",
        "\n",
        "Meeting Recording:\n",
        "https://nyu.zoom.us/rec/share/Udsz4hvejlknAvZ-0EsxJqELtdz4YtX_HzRw2uAYMW3UUehnegI6r5zwb65-Eenm._c_F8dxLiJysoaNx\n",
        "\n",
        "\n",
        "Lecture Notes:\n",
        "https://github.com/sameertipnis/AlgoTrading/blob/main/Lecture_2.ipynb"
      ],
      "metadata": {
        "id": "1xPR1jVqExyH"
      }
    },
    {
      "cell_type": "markdown",
      "source": [
        "#Lecture-3\n",
        "\n",
        "Topic: Algorithmic Trading - Lectures\n",
        "Start Time: Jun 29, 2022 05:23 PM\n",
        "\n",
        "Meeting Recording:\n",
        "https://nyu.zoom.us/rec/share/_zC3hkTHbN0H1RiL0BvtGtRPdibOq2ojF0R2u9gFoHP93xWp74fBLU0845Bcw9MN.W_IhNdtg7NHNOb2P\n",
        "\n",
        "Lecture Notes: https://github.com/sameertipnis/AlgoTrading/blob/main/Lecture3.ipynb\n"
      ],
      "metadata": {
        "id": "wi6vbwoEEvW_"
      }
    },
    {
      "cell_type": "markdown",
      "source": [
        "#Lecture-4\n",
        "\n",
        "\n",
        "Topic: Algorithmic Trading - Lectures\n",
        "Start Time: Jul 6, 2022 05:56 PM\n",
        "\n",
        "Meeting Recording:\n",
        "https://nyu.zoom.us/rec/share/kB87BsHws-4JuUICmj8cfah4WhijSCNrTy9WYg8hdcfSbrdYM3cgAWdarTyn3zOs.NfOSbPRzy91sfV9I\n",
        "\n",
        "\n",
        "Lecture Notes: https://github.com/sameertipnis/AlgoTrading/blob/main/Lecture_4.ipynb\n"
      ],
      "metadata": {
        "id": "chUkFyHYX29i"
      }
    },
    {
      "cell_type": "markdown",
      "source": [
        "#Lecture-4\n",
        "\n",
        "\n",
        "Topic: Algorithmic Trading - Lectures\n",
        "Start Time: Jul 6, 2022 05:56 PM\n",
        "\n",
        "Meeting Recording:\n",
        "https://nyu.zoom.us/rec/share/kB87BsHws-4JuUICmj8cfah4WhijSCNrTy9WYg8hdcfSbrdYM3cgAWdarTyn3zOs.NfOSbPRzy91sfV9I\n",
        "\n",
        "\n",
        "Lecture Notes: https://github.com/sameertipnis/AlgoTrading/blob/main/Lecture_4.ipynb\n"
      ],
      "metadata": {
        "id": "t-O3EvJmxTrL"
      }
    },
    {
      "cell_type": "markdown",
      "source": [
        "#Lecture-5\n",
        "\n",
        "Topic: Algorithmic Trading - Lectures\n",
        "Start Time: Jul 13, 2022 05:43 PM\n",
        "\n",
        "Meeting Recording:\n",
        "https://nyu.zoom.us/rec/share/xECBj0RiwBhDOTucqtKB7LonoR1JZljNnxflwW_XepjqnVYLpemkZQVr3N2xygwR.ZzAvx68CBudxhrHM\n",
        "\n",
        "\n",
        "\n",
        "Lecture Notes: https://github.com/sameertipnis/AlgoTrading/blob/main/Lecture_5.ipynb\n"
      ],
      "metadata": {
        "id": "IMggtdI0xZxd"
      }
    }
  ]
}