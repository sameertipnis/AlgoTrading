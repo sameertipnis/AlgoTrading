{
  "nbformat": 4,
  "nbformat_minor": 0,
  "metadata": {
    "colab": {
      "name": "Course-LectureNotes-Recording.ipynb",
      "provenance": [],
      "authorship_tag": "ABX9TyPzcjDvCRVPh09ZqpLdarWH",
      "include_colab_link": true
    },
    "kernelspec": {
      "name": "python3",
      "display_name": "Python 3"
    },
    "language_info": {
      "name": "python"
    }
  },
  "cells": [
    {
      "cell_type": "markdown",
      "metadata": {
        "id": "view-in-github",
        "colab_type": "text"
      },
      "source": [
        "<a href=\"https://colab.research.google.com/github/sameertipnis/AlgoTrading/blob/main/Course_LectureNotes_Recording.ipynb\" target=\"_parent\"><img src=\"https://colab.research.google.com/assets/colab-badge.svg\" alt=\"Open In Colab\"/></a>"
      ]
    },
    {
      "cell_type": "markdown",
      "source": [
        "[Syllabus](https://drive.google.com/file/d/1dN4Re4vqrbU7-HK2Dvf1Xmc1FnrREHZY/view?usp=sharing)"
      ],
      "metadata": {
        "id": "XaVUh3Zrs8XN"
      }
    },
    {
      "cell_type": "markdown",
      "source": [
        "#Lecture-1\n",
        "\n",
        "**No Recording **\n",
        "\n",
        "Lecture Notes:\n",
        "\n",
        "https://drive.google.com/file/d/1CSmfbW-UI8KWGoNq3jG8lLNwjkDd_QKU/view?usp=sharing\n"
      ],
      "metadata": {
        "id": "CxSvupxgEO8a"
      }
    },
    {
      "cell_type": "markdown",
      "source": [
        "#Lecture-2\n",
        "\n",
        "Topic: Algorithmic Trading - Lectures\n",
        "Start Time: Jun 22, 2022 05:53 PM\n",
        "\n",
        "Meeting Recording:\n",
        "https://nyu.zoom.us/rec/share/GqikkXcVAk_N-ssilszcvTgjZtCC0dFTu0ANg4UD3AGLg3iYqcHCFs7sr5PBmcdT.ueZU8e3OgpPjeZyx\n",
        "\n",
        "\n",
        "Lecture Notes:\n",
        "https://github.com/sameertipnis/AlgoTrading/blob/main/Lecture_2.ipynb"
      ],
      "metadata": {
        "id": "1xPR1jVqExyH"
      }
    },
    {
      "cell_type": "markdown",
      "source": [
        "#Lecture-3\n",
        "\n",
        "Topic: Algorithmic Trading - Lectures\n",
        "Start Time: Jun 29, 2022 05:23 PM\n",
        "\n",
        "Meeting Recording:\n",
        "https://nyu.zoom.us/rec/share/hrbCDMZWO1Z1cQwYurBOZtOxr-gr4-1--b_sPYHDWBu_t34ZZaXNDeds50TuJgH2.cLmngMFOZImX-Vo6\n",
        "\n",
        "Lecture Notes: https://github.com/sameertipnis/AlgoTrading/blob/main/Lecture3.ipynb\n"
      ],
      "metadata": {
        "id": "wi6vbwoEEvW_"
      }
    },
    {
      "cell_type": "markdown",
      "source": [
        ""
      ],
      "metadata": {
        "id": "rOyWObImX1tD"
      }
    },
    {
      "cell_type": "markdown",
      "source": [
        "#Lecture-4\n",
        "\n",
        "Topic: Algorithmic Trading - Lectures\n",
        "Start Time: Jul 6, 2022 05:56 PM\n",
        "\n",
        "Meeting Recording:\n",
        "https://nyu.zoom.us/rec/share/mUIQvGzHoy_LTp-sGRp-PE1ss_3Jty93QQCLsIXnJDNTWq1L2VRs5sUvoWmdYOFA.8CdOlH_ukUaVwqCj\n",
        "\n",
        "\n",
        "Lecture Notes: https://github.com/sameertipnis/AlgoTrading/blob/main/Lecture_4.ipynb\n"
      ],
      "metadata": {
        "id": "chUkFyHYX29i"
      }
    }
  ]
}