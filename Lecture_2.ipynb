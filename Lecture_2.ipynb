{
  "nbformat": 4,
  "nbformat_minor": 0,
  "metadata": {
    "colab": {
      "name": "Lecture-2.ipynb",
      "provenance": [],
      "authorship_tag": "ABX9TyMYDW6v7S21ZP9yVxX1dRd9"
    },
    "kernelspec": {
      "name": "python3",
      "display_name": "Python 3"
    },
    "language_info": {
      "name": "python"
    }
  },
  "cells": [
    {
      "cell_type": "markdown",
      "source": [
        "<br>\n",
        "\n",
        "# Agenda \n",
        "\n",
        "### 1.   Announcement\n",
        "### 2.   Review of the first lecture\n",
        "### 3.   Outline of the Course\n",
        "### 4.   Brief Introduction to Python\n",
        "### 5.   Writing simple screener in Python\n",
        "\n",
        "\n"
      ],
      "metadata": {
        "id": "b47M-3A3Xk2m"
      }
    },
    {
      "cell_type": "markdown",
      "source": [
        "## 1. Announcement\n",
        "\n",
        "* ##   Three Hour Class\n",
        "* ##   Office hours on Demand\n",
        "\n",
        "\n"
      ],
      "metadata": {
        "id": "0Ukd8IWJYdBC"
      }
    },
    {
      "cell_type": "markdown",
      "source": [
        "## 2.Review the first lecture\n",
        "* ###  Context of Algorithmic Trading - Basic Drivers\n",
        "* ###  Uptick in Volume and Liquidity\n",
        "* ###  Tighter spread on Products\n",
        "* ###  Increase in Transperancy of Trading Activities\n",
        "* ###  Provide higher value to investor and issuers.\n",
        "\n",
        "\n",
        "\n",
        "\n",
        "\n",
        "\n",
        "\n",
        "\n",
        "\n",
        "\n",
        "\n",
        "\n",
        "\n",
        "\n",
        "\n",
        "\n",
        "\n",
        "\n",
        "\n",
        "\n",
        "\n",
        "\n",
        "\n",
        "\n",
        "\n",
        "\n",
        "\n",
        "\n",
        "\n"
      ],
      "metadata": {
        "id": "OpBkNDmGY1k8"
      }
    },
    {
      "cell_type": "markdown",
      "source": [
        "##3. Markets and Trading \n",
        "   * ###  Buy Side Vs Sell Side\n",
        "   * ###  Market Makers Vs Liquidity Seekers\n",
        "   * ###  Systemic Vs Non-Systemic\n",
        "   * ###  Trading Strategies\n",
        "      * ### Model Based Strategies\n",
        "      * ### Machine learning Model Based Strategy"
      ],
      "metadata": {
        "id": "OKHoD3u-XpPS"
      }
    },
    {
      "cell_type": "markdown",
      "source": [
        "## 4. Outline of the Course\n",
        "* ### Lecture 3 and  Lecture 4 \n",
        "   * ### Trend Following and Mean Reversion Stratgies Strategies  \n",
        "   * ### Relative Value / Pairs Trading Strategies\n",
        "   * ### Time series Analysis - ARIMA model\n",
        "   * ### Long Short Equity using - Garch Model\n",
        "* ### Lecture 5 \n",
        "   * ### Machine Learning basics with Python\n",
        "* ### Lecture 6 and 7\n",
        "   * ### Tensor Flow pipelines for strategies \n",
        "   * ### Neural Networks using Tensor Flow\n",
        "* ### Lecture 8\n",
        "   * ### Renforcement learning based Trading Strategy  \n"
      ],
      "metadata": {
        "id": "OcWeo3rBl8oy"
      }
    }
  ]
}